{
 "cells": [
  {
   "cell_type": "code",
   "execution_count": 4,
   "metadata": {},
   "outputs": [
    {
     "name": "stdout",
     "output_type": "stream",
     "text": [
      "Requirement already satisfied: yahooquery in c:\\users\\ribei\\anaconda3\\lib\\site-packages (2.2.15)\n",
      "Requirement already satisfied: tqdm>=4.54.1 in c:\\users\\ribei\\anaconda3\\lib\\site-packages (from yahooquery) (4.64.1)\n",
      "Requirement already satisfied: requests-futures>=1.0.0 in c:\\users\\ribei\\anaconda3\\lib\\site-packages (from yahooquery) (1.0.0)\n",
      "Requirement already satisfied: lxml>=4.6.2 in c:\\users\\ribei\\anaconda3\\lib\\site-packages (from yahooquery) (4.9.1)\n",
      "Requirement already satisfied: pandas>=0.24.0 in c:\\users\\ribei\\anaconda3\\lib\\site-packages (from yahooquery) (1.1.3)\n",
      "Requirement already satisfied: colorama; platform_system == \"Windows\" in c:\\users\\ribei\\anaconda3\\lib\\site-packages (from tqdm>=4.54.1->yahooquery) (0.4.4)\n",
      "Requirement already satisfied: requests>=1.2.0 in c:\\users\\ribei\\anaconda3\\lib\\site-packages (from requests-futures>=1.0.0->yahooquery) (2.28.1)\n",
      "Requirement already satisfied: python-dateutil>=2.7.3 in c:\\users\\ribei\\anaconda3\\lib\\site-packages (from pandas>=0.24.0->yahooquery) (2.8.1)\n",
      "Requirement already satisfied: numpy>=1.15.4 in c:\\users\\ribei\\anaconda3\\lib\\site-packages (from pandas>=0.24.0->yahooquery) (1.19.2)\n",
      "Requirement already satisfied: pytz>=2017.2 in c:\\users\\ribei\\anaconda3\\lib\\site-packages (from pandas>=0.24.0->yahooquery) (2020.1)\n",
      "Requirement already satisfied: certifi>=2017.4.17 in c:\\users\\ribei\\anaconda3\\lib\\site-packages (from requests>=1.2.0->requests-futures>=1.0.0->yahooquery) (2020.6.20)\n",
      "Requirement already satisfied: urllib3<1.27,>=1.21.1 in c:\\users\\ribei\\anaconda3\\lib\\site-packages (from requests>=1.2.0->requests-futures>=1.0.0->yahooquery) (1.25.11)\n",
      "Requirement already satisfied: charset-normalizer<3,>=2 in c:\\users\\ribei\\anaconda3\\lib\\site-packages (from requests>=1.2.0->requests-futures>=1.0.0->yahooquery) (2.1.1)\n",
      "Requirement already satisfied: idna<4,>=2.5 in c:\\users\\ribei\\anaconda3\\lib\\site-packages (from requests>=1.2.0->requests-futures>=1.0.0->yahooquery) (2.10)\n",
      "Requirement already satisfied: six>=1.5 in c:\\users\\ribei\\anaconda3\\lib\\site-packages (from python-dateutil>=2.7.3->pandas>=0.24.0->yahooquery) (1.15.0)\n",
      "Requirement already satisfied: xlrd in c:\\users\\ribei\\anaconda3\\lib\\site-packages (1.2.0)\n"
     ]
    }
   ],
   "source": [
    "### SCRIPT PARA OBTER HISTORICO DE COTACAO DAS ACOES B3.\n",
    "#\n",
    "### ATE 15/09/2022 (site B3) 482 EMPRESAS COM ACOES NEGOCIAVEIS NO MERCADO A VISTA.\n",
    "#\n",
    "### CRITERIO DE SELECAO DOS TICKERS NEGOCIAVEIS.\n",
    "### ATIVOS PERTENCENTES AOS SEGUIMENTOS NOVO MERCADO (NM),\n",
    "### CIA. NIVEL 1 E 2 DE GOVERNANCA CORPORATIVA (N1 E N2),\n",
    "### TRADICIONAL-BOLSA (EXCLUINDO DRE), BOVESPA MAIS (MA)\n",
    "### E BOVESPA MAIS NIVEL 2 (M2).\n",
    " \n",
    "###########################################################\n",
    "# ROTINA PARA IMPORTAR O HISTORICO DE COTACAO DOS TICKERS #\n",
    "###########################################################\n",
    "\n",
    "# INSTALAR O YAHOO QUERY\n",
    "\n",
    "!pip install yahooquery\n",
    "\n",
    "# (SE NECESSARIO) INSTALAR LEITOR DE ARQUIVO XLS\n",
    "\n",
    "!pip install xlrd\n",
    "\n",
    "# INICIALIZAR OS MODULOS YAHOOQUERY\n",
    "\n",
    "import yahooquery as yq\n",
    "from yahooquery import Ticker\n",
    "\n",
    "# INICIALIZAR OS MODULOS AUXILIARES\n",
    "\n",
    "import pandas as pd\n",
    "import requests as rq\n",
    "import numpy as ny\n",
    "\n",
    "###########################################################\n",
    "# IMPORTAR HISTORICO DE COTACAO DOS ATIVOS SELECIONADOS   #\n",
    "# OS CODIGOS SERAO DIVIDIDOS POR SETOR ECONOMICO          #\n",
    "###########################################################"
   ]
  },
  {
   "cell_type": "code",
   "execution_count": 5,
   "metadata": {},
   "outputs": [],
   "source": [
    "### 3 ###\n",
    "#########################################\n",
    "### SETOR ECONOMICO: BENS INDUSTRIAIS ###\n",
    "#########################################"
   ]
  },
  {
   "cell_type": "code",
   "execution_count": 6,
   "metadata": {},
   "outputs": [],
   "source": [
    "# ETERNIT\n",
    "ETER3 = Ticker('ETER3.SA')\n",
    "hist_ETER3 = ETER3.history(period='60d', interval='5m')\n",
    "ativo_ETER3 = pd.DataFrame(hist_ETER3)\n",
    "ETER3_close = ativo_ETER3['close']\n",
    "ETER3_close.to_excel('ETER3_close.xlsx')"
   ]
  },
  {
   "cell_type": "code",
   "execution_count": 7,
   "metadata": {},
   "outputs": [],
   "source": [
    "# HAGA S/A\n",
    "HAGA3 = Ticker('HAGA3.SA')\n",
    "hist_HAGA3 = HAGA3.history(period='60d', interval='5m')\n",
    "ativo_HAGA3 = pd.DataFrame(hist_HAGA3)\n",
    "HAGA3_close = ativo_HAGA3['close']\n",
    "HAGA3_close.to_excel('HAGA3_close.xlsx')"
   ]
  },
  {
   "cell_type": "code",
   "execution_count": 8,
   "metadata": {},
   "outputs": [],
   "source": [
    "HAGA4 = Ticker('HAGA4.SA')\n",
    "hist_HAGA4 = HAGA4.history(period='60d', interval='5m')\n",
    "ativo_HAGA4 = pd.DataFrame(hist_HAGA4)\n",
    "HAGA4_close = ativo_HAGA4['close']\n",
    "HAGA4_close.to_excel('HAGA4_close.xlsx')"
   ]
  },
  {
   "cell_type": "code",
   "execution_count": 9,
   "metadata": {},
   "outputs": [],
   "source": [
    "# PORTOBELLO\n",
    "PTBL3 = Ticker('PTBL3.SA')\n",
    "hist_PTBL3 = PTBL3.history(period='60d', interval='5m')\n",
    "ativo_PTBL3 = pd.DataFrame(hist_PTBL3)\n",
    "PTBL3_close = ativo_PTBL3['close']\n",
    "PTBL3_close.to_excel('PTBL3_close.xlsx')"
   ]
  },
  {
   "cell_type": "code",
   "execution_count": 10,
   "metadata": {},
   "outputs": [],
   "source": [
    "# AZEVEDO\n",
    "AZEV3 = Ticker('AZEV3.SA')\n",
    "hist_AZEV3 = AZEV3.history(period='60d', interval='5m')\n",
    "ativo_AZEV3 = pd.DataFrame(hist_AZEV3)\n",
    "AZEV3_close = ativo_AZEV3['close']\n",
    "AZEV3_close.to_excel('AZEV3_close.xlsx')"
   ]
  },
  {
   "cell_type": "code",
   "execution_count": 43,
   "metadata": {},
   "outputs": [],
   "source": [
    "AZEV4 = Ticker('AZEV4.SA')\n",
    "hist_AZEV4 = AZEV4.history(period='60d', interval='5m')\n",
    "ativo_AZEV4 = pd.DataFrame(hist_AZEV4)\n",
    "AZEV4_close = ativo_AZEV4['close']\n",
    "AZEV4_close.to_excel('AZEV4_close.xlsx')"
   ]
  },
  {
   "cell_type": "code",
   "execution_count": 12,
   "metadata": {},
   "outputs": [],
   "source": [
    "# SONDOTECNICA\n",
    "SOND5 = Ticker('SOND5.SA')\n",
    "hist_SOND5 = SOND5.history(period='60d', interval='5m')\n",
    "ativo_SOND5 = pd.DataFrame(hist_SOND5)\n",
    "SOND5_close = ativo_SOND5['close']\n",
    "SOND5_close.to_excel('SOND5_close.xlsx')\n"
   ]
  },
  {
   "cell_type": "code",
   "execution_count": 13,
   "metadata": {},
   "outputs": [],
   "source": [
    "SOND6 = Ticker('SOND6.SA')\n",
    "hist_SOND6 = SOND6.history(period='60d', interval='5m')\n",
    "ativo_SOND6 = pd.DataFrame(hist_SOND6)\n",
    "SOND6_close = ativo_SOND6['close']\n",
    "SOND6_close.to_excel('SOND6_close.xlsx')"
   ]
  },
  {
   "cell_type": "code",
   "execution_count": 14,
   "metadata": {},
   "outputs": [],
   "source": [
    "# TECNOSOLO\n",
    "TCNO3 = Ticker('TCNO3.SA')\n",
    "hist_TCNO3 = TCNO3.history(period='60d', interval='5m')\n",
    "ativo_TCNO3 = pd.DataFrame(hist_TCNO3)\n",
    "TCNO3_close = ativo_TCNO3['close']\n",
    "TCNO3_close.to_excel('TCNO3_close.xlsx')"
   ]
  },
  {
   "cell_type": "code",
   "execution_count": 15,
   "metadata": {},
   "outputs": [],
   "source": [
    "TCNO4 = Ticker('TCNO4.SA')\n",
    "hist_TCNO4 = TCNO4.history(period='60d', interval='5m')\n",
    "ativo_TCNO4 = pd.DataFrame(hist_TCNO4)\n",
    "TCNO4_close = ativo_TCNO4['close']\n",
    "TCNO4_close.to_excel('TCNO4_close.xlsx')"
   ]
  },
  {
   "cell_type": "code",
   "execution_count": 16,
   "metadata": {},
   "outputs": [],
   "source": [
    "# EMBRAER\n",
    "EMBR3 = Ticker('EMBR3.SA')\n",
    "hist_EMBR3 = EMBR3.history(period='60d', interval='5m')\n",
    "ativo_EMBR3 = pd.DataFrame(hist_EMBR3)\n",
    "EMBR3_close = ativo_EMBR3['close']\n",
    "EMBR3_close.to_excel('EMBR3_close.xlsx')"
   ]
  },
  {
   "cell_type": "code",
   "execution_count": 17,
   "metadata": {},
   "outputs": [],
   "source": [
    "# FRAS-LE\n",
    "FRAS3 = Ticker('FRAS3.SA')\n",
    "hist_FRAS3 = FRAS3.history(period='60d', interval='5m')\n",
    "ativo_FRAS3 = pd.DataFrame(hist_FRAS3)\n",
    "FRAS3_close = ativo_FRAS3['close']\n",
    "FRAS3_close.to_excel('FRAS3_close.xlsx')"
   ]
  },
  {
   "cell_type": "code",
   "execution_count": 18,
   "metadata": {},
   "outputs": [],
   "source": [
    "# MARCOPOLO\n",
    "POMO3 = Ticker('POMO3.SA')\n",
    "hist_POMO3 = POMO3.history(period='60d', interval='5m')\n",
    "ativo_POMO3 = pd.DataFrame(hist_POMO3)\n",
    "POMO3_close = ativo_POMO3['close']\n",
    "POMO3_close.to_excel('POMO3_close.xlsx')"
   ]
  },
  {
   "cell_type": "code",
   "execution_count": 19,
   "metadata": {},
   "outputs": [],
   "source": [
    "POMO4 = Ticker('POMO4.SA')\n",
    "hist_POMO4 = POMO4.history(period='60d', interval='5m')\n",
    "ativo_POMO4 = pd.DataFrame(hist_POMO4)\n",
    "POMO4_close = ativo_POMO4['close']\n",
    "POMO4_close.to_excel('POMO4_close.xlsx')"
   ]
  },
  {
   "cell_type": "code",
   "execution_count": 20,
   "metadata": {},
   "outputs": [],
   "source": [
    "# RANDON PART\n",
    "RAPT3 = Ticker('RAPT3.SA')\n",
    "hist_RAPT3 = RAPT3.history(period='60d', interval='5m')\n",
    "ativo_RAPT3 = pd.DataFrame(hist_RAPT3)\n",
    "RAPT3_close = ativo_RAPT3['close']\n",
    "RAPT3_close.to_excel('RAPT3_close.xlsx')"
   ]
  },
  {
   "cell_type": "code",
   "execution_count": 21,
   "metadata": {},
   "outputs": [],
   "source": [
    "RAPT4 = Ticker('RAPT4.SA')\n",
    "hist_RAPT4 = RAPT4.history(period='60d', interval='5m')\n",
    "ativo_RAPT4 = pd.DataFrame(hist_RAPT4)\n",
    "RAPT4_close = ativo_RAPT4['close']\n",
    "RAPT4_close.to_excel('RAPT4_close.xlsx')"
   ]
  },
  {
   "cell_type": "code",
   "execution_count": 22,
   "metadata": {},
   "outputs": [],
   "source": [
    "# RECRUSUL\n",
    "RCSL3 = Ticker('RCSL3.SA')\n",
    "hist_RCSL3 = RCSL3.history(period='60d', interval='5m')\n",
    "ativo_RCSL3 = pd.DataFrame(hist_RCSL3)\n",
    "RCSL3_close = ativo_RCSL3['close']\n",
    "RCSL3_close.to_excel('RCSL3_close.xlsx')"
   ]
  },
  {
   "cell_type": "code",
   "execution_count": 23,
   "metadata": {},
   "outputs": [],
   "source": [
    "RCSL4 = Ticker('RCSL4.SA')\n",
    "hist_RCSL4 = RCSL4.history(period='60d', interval='5m')\n",
    "ativo_RCSL4 = pd.DataFrame(hist_RCSL4)\n",
    "RCSL4_close = ativo_RCSL4['close']\n",
    "RCSL4_close.to_excel('RCSL4_close.xlsx')"
   ]
  },
  {
   "cell_type": "code",
   "execution_count": 24,
   "metadata": {},
   "outputs": [],
   "source": [
    "# RIOSULENSE\n",
    "RSUL4 = Ticker('RSUL4.SA')\n",
    "hist_RSUL4 = RSUL4.history(period='60d', interval='5m')\n",
    "ativo_RSUL4 = pd.DataFrame(hist_RSUL4)\n",
    "RSUL4_close = ativo_RSUL4['close']\n",
    "RSUL4_close.to_excel('RSUL4_close.xlsx')"
   ]
  },
  {
   "cell_type": "code",
   "execution_count": 25,
   "metadata": {},
   "outputs": [],
   "source": [
    "# WETZEL S/A\n",
    "MWET3 = Ticker('MWET3.SA')\n",
    "hist_MWET3 = MWET3.history(period='60d', interval='5m')\n",
    "ativo_MWET3 = pd.DataFrame(hist_MWET3)\n",
    "MWET3_close = ativo_MWET3['close']\n",
    "MWET3_close.to_excel('MWET3_close.xlsx')"
   ]
  },
  {
   "cell_type": "code",
   "execution_count": 26,
   "metadata": {},
   "outputs": [],
   "source": [
    "MWET4 = Ticker('MWET4.SA')\n",
    "hist_MWET4 = MWET4.history(period='60d', interval='5m')\n",
    "ativo_MWET4 = pd.DataFrame(hist_MWET4)\n",
    "MWET4_close = ativo_MWET4['close']\n",
    "MWET4_close.to_excel('MWET4_close.xlsx')"
   ]
  },
  {
   "cell_type": "code",
   "execution_count": 27,
   "metadata": {},
   "outputs": [],
   "source": [
    "# SCHULZ\n",
    "SHUL4 = Ticker('SHUL4.SA')\n",
    "hist_SHUL4 = SHUL4.history(period='60d', interval='5m')\n",
    "ativo_SHUL4 = pd.DataFrame(hist_SHUL4)\n",
    "SHUL4_close = ativo_SHUL4['close']\n",
    "SHUL4_close.to_excel('SHUL4_close.xlsx')"
   ]
  },
  {
   "cell_type": "code",
   "execution_count": 28,
   "metadata": {},
   "outputs": [],
   "source": [
    "# WEG\n",
    "WEGE3 = Ticker('WEGE3.SA')\n",
    "hist_WEGE3 = WEGE3.history(period='60d', interval='5m')\n",
    "ativo_WEGE3 = pd.DataFrame(hist_WEGE3)\n",
    "WEGE3_close = ativo_WEGE3['close']\n",
    "WEGE3_close.to_excel('WEGE3_close.xlsx')"
   ]
  },
  {
   "cell_type": "code",
   "execution_count": 29,
   "metadata": {},
   "outputs": [],
   "source": [
    "# ACO ALTONA\n",
    "EALT3 = Ticker('EALT3.SA')\n",
    "hist_EALT3 = EALT3.history(period='60d', interval='5m')\n",
    "ativo_EALT3 = pd.DataFrame(hist_EALT3)\n",
    "EALT3_close = ativo_EALT3['close']\n",
    "EALT3_close.to_excel('EALT3_close.xlsx')"
   ]
  },
  {
   "cell_type": "code",
   "execution_count": 30,
   "metadata": {},
   "outputs": [],
   "source": [
    "EALT4 = Ticker('EALT4.SA')\n",
    "hist_EALT4 = EALT4.history(period='60d', interval='5m')\n",
    "ativo_EALT4 = pd.DataFrame(hist_EALT4)\n",
    "EALT4_close = ativo_EALT4['close']\n",
    "EALT4_close.to_excel('EALT4_close.xlsx')"
   ]
  },
  {
   "cell_type": "code",
   "execution_count": 31,
   "metadata": {},
   "outputs": [],
   "source": [
    "# AERIS\n",
    "AERI3 = Ticker('AERI3.SA')\n",
    "hist_AERI3 = AERI3.history(period='60d', interval='5m')\n",
    "ativo_AERI3 = pd.DataFrame(hist_AERI3)\n",
    "AERI3_close = ativo_AERI3['close']\n",
    "AERI3_close.to_excel('AERI3_close.xlsx')"
   ]
  },
  {
   "cell_type": "code",
   "execution_count": 32,
   "metadata": {},
   "outputs": [],
   "source": [
    "# ARMAC\n",
    "ARML3 = Ticker('ARML3.SA')\n",
    "hist_ARML3 = ARML3.history(period='60d', interval='5m')\n",
    "ativo_ARML3 = pd.DataFrame(hist_ARML3)\n",
    "ARML3_close = ativo_ARML3['close']\n",
    "ARML3_close.to_excel('ARML3_close.xlsx')"
   ]
  },
  {
   "cell_type": "code",
   "execution_count": 33,
   "metadata": {},
   "outputs": [],
   "source": [
    "# BARDELLA\n",
    "BDLL3 = Ticker('BDLL3.SA')\n",
    "hist_BDLL3 = BDLL3.history(period='60d', interval='5m')\n",
    "ativo_BDLL3 = pd.DataFrame(hist_BDLL3)\n",
    "BDLL3_close = ativo_BDLL3['close']\n",
    "BDLL3_close.to_excel('BDLL3_close.xlsx')"
   ]
  },
  {
   "cell_type": "code",
   "execution_count": 34,
   "metadata": {},
   "outputs": [],
   "source": [
    "BDLL4 = Ticker('BDLL4.SA')\n",
    "hist_BDLL4 = BDLL4.history(period='60d', interval='5m')\n",
    "ativo_BDLL4 = pd.DataFrame(hist_BDLL4)\n",
    "BDLL4_close = ativo_BDLL4['close']\n",
    "BDLL4_close.to_excel('BDLL4_close.xlsx')"
   ]
  },
  {
   "cell_type": "code",
   "execution_count": 35,
   "metadata": {},
   "outputs": [],
   "source": [
    "# INEPAR\n",
    "INEP3 = Ticker('INEP3.SA')\n",
    "hist_INEP3 = INEP3.history(period='60d', interval='5m')\n",
    "ativo_INEP3 = pd.DataFrame(hist_INEP3)\n",
    "INEP3_close = ativo_INEP3['close']\n",
    "INEP3_close.to_excel('INEP3_close.xlsx')"
   ]
  },
  {
   "cell_type": "code",
   "execution_count": 36,
   "metadata": {},
   "outputs": [],
   "source": [
    "INEP4 = Ticker('INEP4.SA')\n",
    "hist_INEP4 = INEP4.history(period='60d', interval='5m')\n",
    "ativo_INEP4 = pd.DataFrame(hist_INEP4)\n",
    "INEP4_close = ativo_INEP4['close']\n",
    "INEP4_close.to_excel('INEP4_close.xlsx')"
   ]
  },
  {
   "cell_type": "code",
   "execution_count": 37,
   "metadata": {},
   "outputs": [],
   "source": [
    "# KLEPER WEBER\n",
    "KEPL3 = Ticker('KEPL3.SA')\n",
    "hist_KEPL3 = KEPL3.history(period='60d', interval='5m')\n",
    "ativo_KEPL3 = pd.DataFrame(hist_KEPL3)\n",
    "KEPL3_close = ativo_KEPL3['close']\n",
    "KEPL3_close.to_excel('KEPL3_close.xlsx')"
   ]
  },
  {
   "cell_type": "code",
   "execution_count": 38,
   "metadata": {},
   "outputs": [],
   "source": [
    "# METALFRIO\n",
    "FRIO3 = Ticker('FRIO3.SA')\n",
    "hist_FRIO3 = FRIO3.history(period='60d', interval='5m')\n",
    "ativo_FRIO3 = pd.DataFrame(hist_FRIO3)\n",
    "FRIO3_close = ativo_FRIO3['close']\n",
    "FRIO3_close.to_excel('FRIO3_close.xlsx')"
   ]
  },
  {
   "cell_type": "code",
   "execution_count": 39,
   "metadata": {},
   "outputs": [],
   "source": [
    "# MILLS\n",
    "MILS3 = Ticker('MILS3.SA')\n",
    "hist_MILS3 = MILS3.history(period='60d', interval='5m')\n",
    "ativo_MILS3 = pd.DataFrame(hist_MILS3)\n",
    "MILS3_close = ativo_MILS3['close']\n",
    "MILS3_close.to_excel('MILS3_close.xlsx')"
   ]
  },
  {
   "cell_type": "code",
   "execution_count": 40,
   "metadata": {},
   "outputs": [],
   "source": [
    "# NORDON MET\n",
    "NORD3 = Ticker('NORD3.SA')\n",
    "hist_NORD3 = NORD3.history(period='60d', interval='5m')\n",
    "ativo_NORD3 = pd.DataFrame(hist_NORD3)\n",
    "NORD3_close = ativo_NORD3['close']\n",
    "NORD3_close.to_excel('NORD3_close.xlsx')\n"
   ]
  },
  {
   "cell_type": "code",
   "execution_count": 42,
   "metadata": {},
   "outputs": [],
   "source": [
    "# ROMI\n",
    "ROMI3 = Ticker('ROMI3.SA')\n",
    "hist_ROMI3 = ROMI3.history(period='60d', interval='5m')\n",
    "ativo_ROMI3 = pd.DataFrame(hist_ROMI3)\n",
    "ROMI3_close = ativo_ROMI3['close']\n",
    "ROMI3_close.to_excel('ROMI3_close.xlsx')"
   ]
  },
  {
   "cell_type": "code",
   "execution_count": 44,
   "metadata": {},
   "outputs": [],
   "source": [
    "# METISA\n",
    "MTSA4 = Ticker('MTSA4.SA')\n",
    "hist_MTSA4 = MTSA4.history(period='60d', interval='5m')\n",
    "ativo_MTSA4 = pd.DataFrame(hist_MTSA4)\n",
    "MTSA4_close = ativo_MTSA4['close']\n",
    "MTSA4_close.to_excel('MTSA4_close.xlsx')"
   ]
  },
  {
   "cell_type": "code",
   "execution_count": 45,
   "metadata": {},
   "outputs": [],
   "source": [
    "# TAURUS ARMAS\n",
    "TASA3 = Ticker('TASA3.SA')\n",
    "hist_TASA3 = TASA3.history(period='60d', interval='5m')\n",
    "ativo_TASA3 = pd.DataFrame(hist_TASA3)\n",
    "TASA3_close = ativo_TASA3['close']\n",
    "TASA3_close.to_excel('TASA3_close.xlsx')"
   ]
  },
  {
   "cell_type": "code",
   "execution_count": 46,
   "metadata": {},
   "outputs": [],
   "source": [
    "TASA4 = Ticker('TASA4.SA')\n",
    "hist_TASA4 = TASA4.history(period='60d', interval='5m')\n",
    "ativo_TASA4 = pd.DataFrame(hist_TASA4)\n",
    "TASA4_close = ativo_TASA4['close']\n",
    "TASA4_close.to_excel('TASA4_close.xlsx')"
   ]
  },
  {
   "cell_type": "code",
   "execution_count": 47,
   "metadata": {},
   "outputs": [],
   "source": [
    "# AZUL\n",
    "AZUL4 = Ticker('AZUL4.SA')\n",
    "hist_AZUL4 = AZUL4.history(period='60d', interval='5m')\n",
    "ativo_AZUL4 = pd.DataFrame(hist_AZUL4)\n",
    "AZUL4_close = ativo_AZUL4['close']\n",
    "AZUL4_close.to_excel('AZUL4_close.xlsx')"
   ]
  },
  {
   "cell_type": "code",
   "execution_count": 48,
   "metadata": {},
   "outputs": [],
   "source": [
    "# GOL\n",
    "GOLL4 = Ticker('GOLL4.SA')\n",
    "hist_GOLL4 = GOLL4.history(period='60d', interval='5m')\n",
    "ativo_GOLL4 = pd.DataFrame(hist_GOLL4)\n",
    "GOLL4_close = ativo_GOLL4['close']\n",
    "GOLL4_close.to_excel('GOLL4_close.xlsx')"
   ]
  },
  {
   "cell_type": "code",
   "execution_count": 49,
   "metadata": {},
   "outputs": [],
   "source": [
    "# FER C ATLANT\n",
    "VSPT3 = Ticker('VSPT3.SA')\n",
    "hist_VSPT3 = VSPT3.history(period='60d', interval='5m')\n",
    "ativo_VSPT3 = pd.DataFrame(hist_VSPT3)\n",
    "VSPT3_close = ativo_VSPT3['close']\n",
    "VSPT3_close.to_excel('VSPT3_close.xlsx')"
   ]
  },
  {
   "cell_type": "code",
   "execution_count": 50,
   "metadata": {},
   "outputs": [],
   "source": [
    "# RUMO S.A.\n",
    "RAIL3 = Ticker('RAIL3.SA')\n",
    "hist_RAIL3 = RAIL3.history(period='60d', interval='5m')\n",
    "ativo_RAIL3 = pd.DataFrame(hist_RAIL3)\n",
    "RAIL3_close = ativo_RAIL3['close']\n",
    "RAIL3_close.to_excel('RAIL3_close.xlsx')"
   ]
  },
  {
   "cell_type": "code",
   "execution_count": 51,
   "metadata": {},
   "outputs": [],
   "source": [
    "# HIDROVIAS\n",
    "HBSA3 = Ticker('HBSA3.SA')\n",
    "hist_HBSA3 = HBSA3.history(period='60d', interval='5m')\n",
    "ativo_HBSA3 = pd.DataFrame(hist_HBSA3)\n",
    "HBSA3_close = ativo_HBSA3['close']\n",
    "HBSA3_close.to_excel('HBSA3_close.xlsx')"
   ]
  },
  {
   "cell_type": "code",
   "execution_count": 52,
   "metadata": {},
   "outputs": [],
   "source": [
    "# LOG-IN\n",
    "LOGN3 = Ticker('LOGN3.SA')\n",
    "hist_LOGN3 = LOGN3.history(period='60d', interval='5m')\n",
    "ativo_LOGN3 = pd.DataFrame(hist_LOGN3)\n",
    "LOGN3_close = ativo_LOGN3['close']\n",
    "LOGN3_close.to_excel('LOGN3_close.xlsx')"
   ]
  },
  {
   "cell_type": "code",
   "execution_count": 53,
   "metadata": {},
   "outputs": [],
   "source": [
    "# TREVISA\n",
    "LUXM3 = Ticker('LUXM3.SA')\n",
    "hist_LUXM3 = LUXM3.history(period='60d', interval='5m')\n",
    "ativo_LUXM3 = pd.DataFrame(hist_LUXM3)\n",
    "LUXM3_close = ativo_LUXM3['close']\n",
    "LUXM3_close.to_excel('LUXM3_close.xlsx')"
   ]
  },
  {
   "cell_type": "code",
   "execution_count": 54,
   "metadata": {},
   "outputs": [],
   "source": [
    "LUXM4 = Ticker('LUXM4.SA')\n",
    "hist_LUXM4 = LUXM4.history(period='60d', interval='5m')\n",
    "ativo_LUXM4 = pd.DataFrame(hist_LUXM4)\n",
    "LUXM4_close = ativo_LUXM4['close']\n",
    "LUXM4_close.to_excel('LUXM4_close.xlsx')"
   ]
  },
  {
   "cell_type": "code",
   "execution_count": 55,
   "metadata": {},
   "outputs": [],
   "source": [
    "# JSL\n",
    "JSLG3 = Ticker('JSLG3.SA')\n",
    "hist_JSLG3 = JSLG3.history(period='60d', interval='5m')\n",
    "ativo_JSLG3 = pd.DataFrame(hist_JSLG3)\n",
    "JSLG3_close = ativo_JSLG3['close']\n",
    "JSLG3_close.to_excel('JSLG3_close.xlsx')"
   ]
  },
  {
   "cell_type": "code",
   "execution_count": 56,
   "metadata": {},
   "outputs": [],
   "source": [
    "# TEGMA\n",
    "TGMA3 = Ticker('TGMA3.SA')\n",
    "hist_TGMA3 = TGMA3.history(period='60d', interval='5m')\n",
    "ativo_TGMA3 = pd.DataFrame(hist_TGMA3)\n",
    "TGMA3_close = ativo_TGMA3['close']\n",
    "TGMA3_close.to_excel('TGMA3_close.xlsx')"
   ]
  },
  {
   "cell_type": "code",
   "execution_count": 57,
   "metadata": {},
   "outputs": [],
   "source": [
    "# CCR S.A.\n",
    "CCRO3 = Ticker('CCRO3.SA')\n",
    "hist_CCRO3 = CCRO3.history(period='60d', interval='5m')\n",
    "ativo_CCRO3 = pd.DataFrame(hist_CCRO3)\n",
    "CCRO3_close = ativo_CCRO3['close']\n",
    "CCRO3_close.to_excel('CCRO3_close.xlsx')"
   ]
  },
  {
   "cell_type": "code",
   "execution_count": 58,
   "metadata": {},
   "outputs": [],
   "source": [
    "# ECORODOVIAS\n",
    "ECOR3 = Ticker('ECOR3.SA')\n",
    "hist_ECOR3 = ECOR3.history(period='60d', interval='5m')\n",
    "ativo_ECOR3 = pd.DataFrame(hist_ECOR3)\n",
    "ECOR3_close = ativo_ECOR3['close']\n",
    "ECOR3_close.to_excel('ECOR3_close.xlsx')"
   ]
  },
  {
   "cell_type": "code",
   "execution_count": 59,
   "metadata": {},
   "outputs": [],
   "source": [
    "# TRIUNFO PART\n",
    "TPIS3 = Ticker('TPIS3.SA')\n",
    "hist_TPIS3 = TPIS3.history(period='60d', interval='5m')\n",
    "ativo_TPIS3 = pd.DataFrame(hist_TPIS3)\n",
    "TPIS3_close = ativo_TPIS3['close']\n",
    "TPIS3_close.to_excel('TPIS3_close.xlsx')"
   ]
  },
  {
   "cell_type": "code",
   "execution_count": 60,
   "metadata": {},
   "outputs": [],
   "source": [
    "# PORTO VM\n",
    "PSVM11 = Ticker('PSVM11.SA')\n",
    "hist_PSVM11 = PSVM11.history(period='60d', interval='5m')\n",
    "ativo_PSVM11 = pd.DataFrame(hist_PSVM11)\n",
    "PSVM11_close = ativo_PSVM11['close']\n",
    "PSVM11_close.to_excel('PSVM11_close.xlsx')"
   ]
  },
  {
   "cell_type": "code",
   "execution_count": 61,
   "metadata": {},
   "outputs": [],
   "source": [
    "# SANTOS BRP\n",
    "STBP3 = Ticker('STBP3.SA')\n",
    "hist_STBP3 = STBP3.history(period='60d', interval='5m')\n",
    "ativo_STBP3 = pd.DataFrame(hist_STBP3)\n",
    "STBP3_close = ativo_STBP3['close']\n",
    "STBP3_close.to_excel('STBP3_close.xlsx')"
   ]
  },
  {
   "cell_type": "code",
   "execution_count": 62,
   "metadata": {},
   "outputs": [],
   "source": [
    "# WILSON SONS\n",
    "PORT3 = Ticker('PORT3.SA')\n",
    "hist_PORT3 = PORT3.history(period='60d', interval='5m')\n",
    "ativo_PORT3 = pd.DataFrame(hist_PORT3)\n",
    "PORT3_close = ativo_PORT3['close']\n",
    "PORT3_close.to_excel('PORT3_close.xlsx')"
   ]
  },
  {
   "cell_type": "code",
   "execution_count": 63,
   "metadata": {},
   "outputs": [],
   "source": [
    "# ATMASA\n",
    "ATMP3 = Ticker('ATMP3.SA')\n",
    "hist_ATMP3 = ATMP3.history(period='60d', interval='5m')\n",
    "ativo_ATMP3 = pd.DataFrame(hist_ATMP3)\n",
    "ATMP3_close = ativo_ATMP3['close']\n",
    "ATMP3_close.to_excel('ATMP3_close.xlsx')"
   ]
  },
  {
   "cell_type": "code",
   "execution_count": 64,
   "metadata": {},
   "outputs": [],
   "source": [
    "# DTCOM-DIRECT\n",
    "DTCY3 = Ticker('DTCY3.SA')\n",
    "hist_DTCY3 = DTCY3.history(period='60d', interval='5m')\n",
    "ativo_DTCY3 = pd.DataFrame(hist_DTCY3)\n",
    "DTCY3_close = ativo_DTCY3['close']\n",
    "DTCY3_close.to_excel('DTCY3_close.xlsx')"
   ]
  },
  {
   "cell_type": "code",
   "execution_count": 65,
   "metadata": {},
   "outputs": [],
   "source": [
    "# ESTAPAR\n",
    "ALPK3 = Ticker('ALPK3.SA')\n",
    "hist_ALPK3 = ALPK3.history(period='60d', interval='5m')\n",
    "ativo_ALPK3 = pd.DataFrame(hist_ALPK3)\n",
    "ALPK3_close = ativo_ALPK3['close']\n",
    "ALPK3_close.to_excel('ALPK3_close.xlsx')\n"
   ]
  },
  {
   "cell_type": "code",
   "execution_count": 66,
   "metadata": {},
   "outputs": [],
   "source": [
    "# GPS\n",
    "GGPS3 = Ticker('GGPS3.SA')\n",
    "hist_GGPS3 = GGPS3.history(period='60d', interval='5m')\n",
    "ativo_GGPS3 = pd.DataFrame(hist_GGPS3)\n",
    "GGPS3_close = ativo_GGPS3['close']\n",
    "GGPS3_close.to_excel('GGPS3_close.xlsx')"
   ]
  },
  {
   "cell_type": "code",
   "execution_count": 67,
   "metadata": {},
   "outputs": [],
   "source": [
    "# PRINER\n",
    "PRNR3 = Ticker('PRNR3.SA')\n",
    "hist_PRNR3 = PRNR3.history(period='60d', interval='5m')\n",
    "ativo_PRNR3 = pd.DataFrame(hist_PRNR3)\n",
    "PRNR3_close = ativo_PRNR3['close']\n",
    "PRNR3_close.to_excel('PRNR3_close.xlsx')"
   ]
  },
  {
   "cell_type": "code",
   "execution_count": 68,
   "metadata": {},
   "outputs": [],
   "source": [
    "# SEQUOIA LOG\n",
    "SEQL3 = Ticker('SEQL3.SA')\n",
    "hist_SEQL3 = SEQL3.history(period='60d', interval='5m')\n",
    "ativo_SEQL3 = pd.DataFrame(hist_SEQL3)\n",
    "SEQL3_close = ativo_SEQL3['close']\n",
    "SEQL3_close.to_excel('SEQL3_close.xlsx')\n"
   ]
  },
  {
   "cell_type": "code",
   "execution_count": 69,
   "metadata": {},
   "outputs": [],
   "source": [
    "# VALID\n",
    "VLID3 = Ticker('VLID3.SA')\n",
    "hist_VLID3 = VLID3.history(period='60d', interval='5m')\n",
    "ativo_VLID3 = pd.DataFrame(hist_VLID3)\n",
    "VLID3_close = ativo_VLID3['close']\n",
    "VLID3_close.to_excel('VLID3_close.xlsx')"
   ]
  },
  {
   "cell_type": "code",
   "execution_count": 70,
   "metadata": {},
   "outputs": [],
   "source": [
    "# EMBRAPA S/A\n",
    "EPAR3 = Ticker('EPAR3.SA')\n",
    "hist_EPAR3 = EPAR3.history(period='60d', interval='5m')\n",
    "ativo_EPAR3 = pd.DataFrame(hist_EPAR3)\n",
    "EPAR3_close = ativo_EPAR3['close']\n",
    "EPAR3_close.to_excel('EPAR3_close.xlsx')"
   ]
  },
  {
   "cell_type": "code",
   "execution_count": 71,
   "metadata": {},
   "outputs": [],
   "source": [
    "# MINAS MAQUINA\n",
    "MMAQ3 = Ticker('MMAQ3.SA')\n",
    "hist_MMAQ3 = MMAQ3.history(period='60d', interval='5m')\n",
    "ativo_MMAQ3 = pd.DataFrame(hist_MMAQ3)\n",
    "MMAQ3_close = ativo_MMAQ3['close']\n",
    "MMAQ3_close.to_excel('MMAQ3_close.xlsx')"
   ]
  },
  {
   "cell_type": "code",
   "execution_count": 72,
   "metadata": {},
   "outputs": [],
   "source": [
    "MMAQ4 = Ticker('MMAQ4.SA')\n",
    "hist_MMAQ4 = MMAQ4.history(period='60d', interval='5m')\n",
    "ativo_MMAQ4 = pd.DataFrame(hist_MMAQ4)\n",
    "MMAQ4_close = ativo_MMAQ4['close']\n",
    "MMAQ4_close.to_excel('MMAQ4_close.xlsx')"
   ]
  },
  {
   "cell_type": "code",
   "execution_count": 73,
   "metadata": {},
   "outputs": [],
   "source": [
    "# WLM IND COM\n",
    "WLMM3 = Ticker('WLMM3.SA')\n",
    "hist_WLMM3 = WLMM3.history(period='60d', interval='5m')\n",
    "ativo_WLMM3 = pd.DataFrame(hist_WLMM3)\n",
    "WLMM3_close = ativo_WLMM3['close']\n",
    "WLMM3_close.to_excel('WLMM3_close.xlsx')"
   ]
  },
  {
   "cell_type": "code",
   "execution_count": 74,
   "metadata": {},
   "outputs": [],
   "source": [
    "WLMM4 = Ticker('WLMM4.SA')\n",
    "hist_WLMM4 = WLMM4.history(period='60d', interval='5m')\n",
    "ativo_WLMM4 = pd.DataFrame(hist_WLMM4)\n",
    "WLMM4_close = ativo_WLMM4['close']\n",
    "WLMM4_close.to_excel('WLMM4_close.xlsx')"
   ]
  },
  {
   "cell_type": "code",
   "execution_count": 75,
   "metadata": {},
   "outputs": [],
   "source": [
    "# TUPY\n",
    "TUPY3 = Ticker('TUPY3.SA')\n",
    "hist_TUPY3 = TUPY3.history(period='60d', interval='5m')\n",
    "ativo_TUPY3 = pd.DataFrame(hist_TUPY3)\n",
    "TUPY3_close = ativo_TUPY3['close']\n",
    "TUPY3_close.to_excel('TUPY3_close.xlsx')"
   ]
  },
  {
   "cell_type": "code",
   "execution_count": null,
   "metadata": {},
   "outputs": [],
   "source": []
  }
 ],
 "metadata": {
  "kernelspec": {
   "display_name": "Python 3",
   "language": "python",
   "name": "python3"
  },
  "language_info": {
   "codemirror_mode": {
    "name": "ipython",
    "version": 3
   },
   "file_extension": ".py",
   "mimetype": "text/x-python",
   "name": "python",
   "nbconvert_exporter": "python",
   "pygments_lexer": "ipython3",
   "version": "3.8.5"
  }
 },
 "nbformat": 4,
 "nbformat_minor": 4
}
